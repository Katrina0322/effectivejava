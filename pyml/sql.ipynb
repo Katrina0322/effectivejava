{
 "cells": [
  {
   "cell_type": "code",
   "execution_count": 13,
   "metadata": {},
   "outputs": [],
   "source": [
    "# coding: utf-8\n",
    "import sys\n",
    "import json\n",
    "import pymysql\n",
    "with open(\"content.txt\",'r') as load_f:\n",
    "    load_dict = json.load(load_f)\n",
    "    \n",
    "hits = load_dict['hits']['hits']\n",
    "len(hits)\n",
    "size=0\n",
    "with open(\"content.sql\",'ab+') as lf:\n",
    "    for source in hits:\n",
    "        content = source['_source']['content']\n",
    "        ntg = source['_source']['noTagContent']\n",
    "        webpageCode = source['_source']['webpageCode']\n",
    "        content = pymysql.escape_string(content)\n",
    "        ntg = pymysql.escape_string(ntg)\n",
    "        sql = \"update news_webpage_history set content='%s', noTagContent='%s' where webpage_code='%s';\" % (content, ntg, webpageCode)\n",
    "        lf.write(sql + \"\\n\")\n",
    "        size = size + 1\n",
    "        size\n",
    "    "
   ]
  },
  {
   "cell_type": "code",
   "execution_count": null,
   "metadata": {},
   "outputs": [],
   "source": []
  },
  {
   "cell_type": "code",
   "execution_count": null,
   "metadata": {},
   "outputs": [],
   "source": []
  },
  {
   "cell_type": "code",
   "execution_count": null,
   "metadata": {},
   "outputs": [],
   "source": []
  },
  {
   "cell_type": "code",
   "execution_count": null,
   "metadata": {},
   "outputs": [],
   "source": []
  }
 ],
 "metadata": {
  "kernelspec": {
   "display_name": "Python 2",
   "language": "python",
   "name": "python2"
  },
  "language_info": {
   "codemirror_mode": {
    "name": "ipython",
    "version": 2
   },
   "file_extension": ".py",
   "mimetype": "text/x-python",
   "name": "python",
   "nbconvert_exporter": "python",
   "pygments_lexer": "ipython2",
   "version": "2.7.12"
  }
 },
 "nbformat": 4,
 "nbformat_minor": 2
}
