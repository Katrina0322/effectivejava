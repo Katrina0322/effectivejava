{
 "cells": [
  {
   "cell_type": "code",
   "execution_count": 38,
   "metadata": {},
   "outputs": [],
   "source": [
    "from pyhessian.client import HessianProxy\n",
    "from pyhessian import protocol\n",
    "import datetime\n",
    "def dubbo_api(url,interface,method,param_obj,**kwargs):\n",
    "    req_param = protocol.object_factory(param_obj,**kwargs)\n",
    "    req_obj = HessianProxy(url+interface)\n",
    "    res = getattr(req_obj,method)(req_param)\n",
    "    return res"
   ]
  },
  {
   "cell_type": "code",
   "execution_count": 39,
   "metadata": {},
   "outputs": [
    {
     "name": "stdout",
     "output_type": "stream",
     "text": [
      "2222222\n"
     ]
    }
   ],
   "source": [
    "url = 'http://10.6.4.38:20880/'\n",
    "interface = 'com.uec.inews.dubbo.service.EsSearchService'\n",
    "method = 'pageLatestNews'\n",
    "# param_obj = 'com.effective.dubbo.entity.Result'\n",
    "# params = {\"city\":\"python\",\"date\":datetime.datetime.now()}\n",
    "param_obj = \"com.uec.inews.bean.NewsParam\"\n",
    "params = {\"newsId\":\"aaaaa\"}\n",
    "#这个入参，为了不定义多个变量，把它写成字典形式的,就和stu=dubbo这种方式调用是一样的\n",
    "# over = dubbo_api(url,interface,method,param_obj,**params)\n",
    "over = dubbo_api(url,interface,method,param_obj,**params)\n",
    "#测试调用一下\n",
    "print(over)#打印结果"
   ]
  },
  {
   "cell_type": "code",
   "execution_count": null,
   "metadata": {},
   "outputs": [],
   "source": []
  }
 ],
 "metadata": {
  "kernelspec": {
   "display_name": "Python 2",
   "language": "python",
   "name": "python2"
  },
  "language_info": {
   "codemirror_mode": {
    "name": "ipython",
    "version": 2
   },
   "file_extension": ".py",
   "mimetype": "text/x-python",
   "name": "python",
   "nbconvert_exporter": "python",
   "pygments_lexer": "ipython2",
   "version": "2.7.12"
  }
 },
 "nbformat": 4,
 "nbformat_minor": 2
}
